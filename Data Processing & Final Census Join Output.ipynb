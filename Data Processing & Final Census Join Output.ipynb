{
 "cells": [
  {
   "cell_type": "markdown",
   "id": "dd58145b",
   "metadata": {},
   "source": [
    "# Preprocessing Data"
   ]
  },
  {
   "cell_type": "code",
   "execution_count": 95,
   "id": "f7964d8e",
   "metadata": {},
   "outputs": [],
   "source": [
    "import pandas as pd\n",
    "import numpy as np"
   ]
  },
  {
   "cell_type": "code",
   "execution_count": 96,
   "id": "2462e9c9",
   "metadata": {},
   "outputs": [],
   "source": [
    "train = pd.read_csv('/Users/ridhitbhura/Desktop/Election Prediction Project/FINAL DATASET.csv')\n",
    "dict1 = pd.read_csv('/Users/ridhitbhura/Desktop/Election Prediction Project/finaldict.csv')"
   ]
  },
  {
   "cell_type": "code",
   "execution_count": 98,
   "id": "8a9ce5d0",
   "metadata": {},
   "outputs": [],
   "source": [
    "del dict1['Unnamed: 2']"
   ]
  },
  {
   "cell_type": "code",
   "execution_count": 100,
   "id": "15fceb84",
   "metadata": {},
   "outputs": [],
   "source": [
    "dictionary = dict(zip(dict1['Full Name'], dict1['District']))"
   ]
  },
  {
   "cell_type": "code",
   "execution_count": 103,
   "id": "02807cda",
   "metadata": {},
   "outputs": [
    {
     "data": {
      "text/plain": [
       "State-UT Code & Name    0\n",
       "PC NO                   0\n",
       "PC NAME                 0\n",
       "AC NO                   0\n",
       "AC NAME                 0\n",
       "TOTAL ELECTORS          0\n",
       "TOTAL VOTES IN STATE    0\n",
       "NOTA VOTES EVM          0\n",
       "CANDIDATE NAME          0\n",
       "PARTY                   0\n",
       "VOTES SECURED EVM       0\n",
       "CodeName                0\n",
       "Full Name               0\n",
       "dtype: int64"
      ]
     },
     "execution_count": 103,
     "metadata": {},
     "output_type": "execute_result"
    }
   ],
   "source": [
    "train.isna().sum()"
   ]
  },
  {
   "cell_type": "code",
   "execution_count": 104,
   "id": "2f27d7e8",
   "metadata": {},
   "outputs": [],
   "source": [
    "train[\"District\"] = train[\"Full Name\"].map(dictionary)"
   ]
  },
  {
   "cell_type": "code",
   "execution_count": 106,
   "id": "64fa8467",
   "metadata": {},
   "outputs": [],
   "source": [
    "alliance = pd.read_csv('/Users/ridhitbhura/Desktop/Election Prediction Project/Party Alliance Dict File.csv')"
   ]
  },
  {
   "cell_type": "code",
   "execution_count": 107,
   "id": "8efaaba9",
   "metadata": {},
   "outputs": [
    {
     "data": {
      "text/plain": [
       "0        False\n",
       "1        False\n",
       "2        False\n",
       "3        False\n",
       "4        False\n",
       "         ...  \n",
       "58737    False\n",
       "58738    False\n",
       "58739    False\n",
       "58740    False\n",
       "58741    False\n",
       "Name: District, Length: 58742, dtype: bool"
      ]
     },
     "execution_count": 107,
     "metadata": {},
     "output_type": "execute_result"
    }
   ],
   "source": [
    "train[\"District\"].isna()"
   ]
  },
  {
   "cell_type": "code",
   "execution_count": 108,
   "id": "000f1665",
   "metadata": {},
   "outputs": [],
   "source": [
    "del alliance['Name']"
   ]
  },
  {
   "cell_type": "code",
   "execution_count": 109,
   "id": "67461ae4",
   "metadata": {},
   "outputs": [],
   "source": [
    "alliancedict = dict(zip(alliance['Code'], alliance['Alliance']))"
   ]
  },
  {
   "cell_type": "code",
   "execution_count": 110,
   "id": "b2dd2dd0",
   "metadata": {},
   "outputs": [],
   "source": [
    "alliancedict\n",
    "train[\"Alliance\"] = train[\"PARTY\"].map(alliancedict)"
   ]
  },
  {
   "cell_type": "code",
   "execution_count": 112,
   "id": "acffa50b",
   "metadata": {},
   "outputs": [],
   "source": [
    "train.drop(train[train['District'].isna()].index, inplace=True)\n"
   ]
  },
  {
   "cell_type": "code",
   "execution_count": 114,
   "id": "ff581183",
   "metadata": {},
   "outputs": [],
   "source": [
    "df = train.copy()"
   ]
  },
  {
   "cell_type": "code",
   "execution_count": 116,
   "id": "c5bc4830",
   "metadata": {},
   "outputs": [],
   "source": [
    "df = df.rename(columns={'VOTES SECURED EVM': 'votes'})"
   ]
  },
  {
   "cell_type": "code",
   "execution_count": 118,
   "id": "b88bd51b",
   "metadata": {},
   "outputs": [
    {
     "data": {
      "text/plain": [
       "State-UT Code & Name        0\n",
       "PC NO                       0\n",
       "PC NAME                     0\n",
       "AC NO                       0\n",
       "AC NAME                     0\n",
       "TOTAL ELECTORS              0\n",
       "TOTAL VOTES IN STATE        0\n",
       "NOTA VOTES EVM              0\n",
       "CANDIDATE NAME              0\n",
       "PARTY                       0\n",
       "votes                       0\n",
       "CodeName                    0\n",
       "Full Name                   0\n",
       "District                    0\n",
       "Alliance                18984\n",
       "dtype: int64"
      ]
     },
     "execution_count": 118,
     "metadata": {},
     "output_type": "execute_result"
    }
   ],
   "source": [
    "df.isna().sum()"
   ]
  },
  {
   "cell_type": "code",
   "execution_count": 119,
   "id": "d24d90d7",
   "metadata": {},
   "outputs": [],
   "source": [
    "df['Alliance'].fillna('Other', inplace=True)"
   ]
  },
  {
   "cell_type": "code",
   "execution_count": 120,
   "id": "94f4f94a",
   "metadata": {},
   "outputs": [
    {
     "data": {
      "text/plain": [
       "State-UT Code & Name    0\n",
       "PC NO                   0\n",
       "PC NAME                 0\n",
       "AC NO                   0\n",
       "AC NAME                 0\n",
       "TOTAL ELECTORS          0\n",
       "TOTAL VOTES IN STATE    0\n",
       "NOTA VOTES EVM          0\n",
       "CANDIDATE NAME          0\n",
       "PARTY                   0\n",
       "votes                   0\n",
       "CodeName                0\n",
       "Full Name               0\n",
       "District                0\n",
       "Alliance                0\n",
       "dtype: int64"
      ]
     },
     "execution_count": 120,
     "metadata": {},
     "output_type": "execute_result"
    }
   ],
   "source": [
    "df.isna().sum()"
   ]
  },
  {
   "cell_type": "code",
   "execution_count": 122,
   "id": "36ee33b3",
   "metadata": {},
   "outputs": [],
   "source": [
    "#Calculating total votes in each District\n",
    "df['Total_Votes'] = df.groupby('District').votes.transform(np.sum)"
   ]
  },
  {
   "cell_type": "code",
   "execution_count": 123,
   "id": "bc9eb293",
   "metadata": {},
   "outputs": [],
   "source": [
    "#df.to_csv('/Users/ridhitbhura/Desktop/Election Prediction Project/correctionfinaldata.csv')"
   ]
  },
  {
   "cell_type": "code",
   "execution_count": 125,
   "id": "566ab52c",
   "metadata": {},
   "outputs": [
    {
     "data": {
      "text/plain": [
       "0"
      ]
     },
     "execution_count": 125,
     "metadata": {},
     "output_type": "execute_result"
    }
   ],
   "source": [
    "df['Alliance'].isna().sum()"
   ]
  },
  {
   "cell_type": "code",
   "execution_count": 126,
   "id": "199f121d",
   "metadata": {},
   "outputs": [],
   "source": [
    "#Figure out how to get party wise vote share by District\n",
    "df1 = df.groupby(by = ['Alliance', 'District']).sum()\n"
   ]
  },
  {
   "cell_type": "code",
   "execution_count": 128,
   "id": "221cad6c",
   "metadata": {},
   "outputs": [],
   "source": [
    "df2 = df.groupby(by = ['District', 'Alliance']).sum()"
   ]
  },
  {
   "cell_type": "code",
   "execution_count": 130,
   "id": "ee3b7c69",
   "metadata": {},
   "outputs": [],
   "source": [
    "#df2.to_csv('/Users/ridhitbhura/Desktop/Election Prediction Project/aggregate.csv')"
   ]
  },
  {
   "cell_type": "code",
   "execution_count": 131,
   "id": "3e69eebd",
   "metadata": {},
   "outputs": [],
   "source": [
    "#df2.pivot(columns = 'PARTY', index = 'DISTRICT')"
   ]
  },
  {
   "cell_type": "code",
   "execution_count": 132,
   "id": "cddb2ebd",
   "metadata": {},
   "outputs": [],
   "source": [
    "aggregate = pd.read_csv('/Users/ridhitbhura/Desktop/Election Prediction Project/aggregate.csv')"
   ]
  },
  {
   "cell_type": "code",
   "execution_count": 134,
   "id": "813939b6",
   "metadata": {},
   "outputs": [],
   "source": [
    "copy2 = aggregate.copy()\n",
    "#aggregate.pivot(columns = 'PARTY', index = 'District')"
   ]
  },
  {
   "cell_type": "code",
   "execution_count": 135,
   "id": "dd82b02a",
   "metadata": {},
   "outputs": [],
   "source": [
    "del copy2['PC NO']\n",
    "del copy2['AC NO']\n",
    "del copy2['TOTAL ELECTORS']\n",
    "del copy2['TOTAL VOTES IN STATE']\n",
    "del copy2['NOTA VOTES EVM']\n",
    "del copy2['Total_Votes']"
   ]
  },
  {
   "cell_type": "code",
   "execution_count": 137,
   "id": "0321cd1c",
   "metadata": {},
   "outputs": [],
   "source": [
    "copy3 = copy2.pivot(columns = 'Alliance', index = 'District', values='votes')"
   ]
  },
  {
   "cell_type": "code",
   "execution_count": 138,
   "id": "67fc7a77",
   "metadata": {},
   "outputs": [
    {
     "data": {
      "text/html": [
       "<div>\n",
       "<style scoped>\n",
       "    .dataframe tbody tr th:only-of-type {\n",
       "        vertical-align: middle;\n",
       "    }\n",
       "\n",
       "    .dataframe tbody tr th {\n",
       "        vertical-align: top;\n",
       "    }\n",
       "\n",
       "    .dataframe thead th {\n",
       "        text-align: right;\n",
       "    }\n",
       "</style>\n",
       "<table border=\"1\" class=\"dataframe\">\n",
       "  <thead>\n",
       "    <tr style=\"text-align: right;\">\n",
       "      <th>Alliance</th>\n",
       "      <th>IND</th>\n",
       "      <th>MTP</th>\n",
       "      <th>NDA</th>\n",
       "      <th>UPA</th>\n",
       "    </tr>\n",
       "    <tr>\n",
       "      <th>District</th>\n",
       "      <th></th>\n",
       "      <th></th>\n",
       "      <th></th>\n",
       "      <th></th>\n",
       "    </tr>\n",
       "  </thead>\n",
       "  <tbody>\n",
       "    <tr>\n",
       "      <th>Adilabad</th>\n",
       "      <td>3800.0</td>\n",
       "      <td>90444.0</td>\n",
       "      <td>124263.0</td>\n",
       "      <td>74195.0</td>\n",
       "    </tr>\n",
       "    <tr>\n",
       "      <th>Agra</th>\n",
       "      <td>15750.0</td>\n",
       "      <td>511894.0</td>\n",
       "      <td>1210637.0</td>\n",
       "      <td>213743.0</td>\n",
       "    </tr>\n",
       "    <tr>\n",
       "      <th>Ahmedabad</th>\n",
       "      <td>45608.0</td>\n",
       "      <td>32528.0</td>\n",
       "      <td>2369297.0</td>\n",
       "      <td>1002936.0</td>\n",
       "    </tr>\n",
       "    <tr>\n",
       "      <th>Ahmednagar</th>\n",
       "      <td>99716.0</td>\n",
       "      <td>12628.0</td>\n",
       "      <td>1180410.0</td>\n",
       "      <td>803741.0</td>\n",
       "    </tr>\n",
       "    <tr>\n",
       "      <th>Aizawl</th>\n",
       "      <td>7231.0</td>\n",
       "      <td>0.0</td>\n",
       "      <td>1217.0</td>\n",
       "      <td>95329.0</td>\n",
       "    </tr>\n",
       "    <tr>\n",
       "      <th>...</th>\n",
       "      <td>...</td>\n",
       "      <td>...</td>\n",
       "      <td>...</td>\n",
       "      <td>...</td>\n",
       "    </tr>\n",
       "    <tr>\n",
       "      <th>Yadgir</th>\n",
       "      <td>1749.0</td>\n",
       "      <td>8731.0</td>\n",
       "      <td>309522.0</td>\n",
       "      <td>236351.0</td>\n",
       "    </tr>\n",
       "    <tr>\n",
       "      <th>Yamunanagar</th>\n",
       "      <td>7186.0</td>\n",
       "      <td>63671.0</td>\n",
       "      <td>353780.0</td>\n",
       "      <td>185081.0</td>\n",
       "    </tr>\n",
       "    <tr>\n",
       "      <th>Yanam</th>\n",
       "      <td>397.0</td>\n",
       "      <td>331.0</td>\n",
       "      <td>8697.0</td>\n",
       "      <td>21600.0</td>\n",
       "    </tr>\n",
       "    <tr>\n",
       "      <th>Yavatmal</th>\n",
       "      <td>63694.0</td>\n",
       "      <td>11898.0</td>\n",
       "      <td>701725.0</td>\n",
       "      <td>496861.0</td>\n",
       "    </tr>\n",
       "    <tr>\n",
       "      <th>Zunheboto</th>\n",
       "      <td>185.0</td>\n",
       "      <td>0.0</td>\n",
       "      <td>45461.0</td>\n",
       "      <td>47969.0</td>\n",
       "    </tr>\n",
       "  </tbody>\n",
       "</table>\n",
       "<p>717 rows × 4 columns</p>\n",
       "</div>"
      ],
      "text/plain": [
       "Alliance         IND       MTP        NDA        UPA\n",
       "District                                            \n",
       "Adilabad      3800.0   90444.0   124263.0    74195.0\n",
       "Agra         15750.0  511894.0  1210637.0   213743.0\n",
       "Ahmedabad    45608.0   32528.0  2369297.0  1002936.0\n",
       "Ahmednagar   99716.0   12628.0  1180410.0   803741.0\n",
       "Aizawl        7231.0       0.0     1217.0    95329.0\n",
       "...              ...       ...        ...        ...\n",
       "Yadgir        1749.0    8731.0   309522.0   236351.0\n",
       "Yamunanagar   7186.0   63671.0   353780.0   185081.0\n",
       "Yanam          397.0     331.0     8697.0    21600.0\n",
       "Yavatmal     63694.0   11898.0   701725.0   496861.0\n",
       "Zunheboto      185.0       0.0    45461.0    47969.0\n",
       "\n",
       "[717 rows x 4 columns]"
      ]
     },
     "execution_count": 138,
     "metadata": {},
     "output_type": "execute_result"
    }
   ],
   "source": [
    "copy3.fillna(0)"
   ]
  },
  {
   "cell_type": "code",
   "execution_count": 139,
   "id": "59823867",
   "metadata": {},
   "outputs": [],
   "source": [
    "#copy3.to_csv('/Users/ridhitbhura/Downloads/bruhcopy.csv')"
   ]
  },
  {
   "cell_type": "code",
   "execution_count": 140,
   "id": "f99a6def",
   "metadata": {},
   "outputs": [],
   "source": [
    "#Reimporting to solve nesting issue"
   ]
  },
  {
   "cell_type": "code",
   "execution_count": 141,
   "id": "190d528a",
   "metadata": {},
   "outputs": [],
   "source": [
    "df1 = pd.read_csv('/Users/ridhitbhura/Downloads/bruhcopy.csv')"
   ]
  },
  {
   "cell_type": "code",
   "execution_count": 142,
   "id": "309a0d40",
   "metadata": {},
   "outputs": [],
   "source": [
    "df1 = df1.fillna(0)"
   ]
  },
  {
   "cell_type": "code",
   "execution_count": 144,
   "id": "35059010",
   "metadata": {},
   "outputs": [],
   "source": [
    "#copy3reimport.to_csv('/Users/ridhitbhura/Downloads/TOTALFINALDATADONOTMESS.csv')"
   ]
  },
  {
   "cell_type": "code",
   "execution_count": 145,
   "id": "e2a387dd",
   "metadata": {},
   "outputs": [],
   "source": [
    "df1['Totalvotes']=df1['IND']+df1['MTP']+df1['NDA']+df1['UPA']"
   ]
  },
  {
   "cell_type": "code",
   "execution_count": 146,
   "id": "96e140a3",
   "metadata": {},
   "outputs": [],
   "source": [
    "#copy3reimport.to_csv('/Users/ridhitbhura/Downloads/fordistrictvalidation.csv')"
   ]
  },
  {
   "cell_type": "code",
   "execution_count": 147,
   "id": "75e9514a",
   "metadata": {},
   "outputs": [],
   "source": [
    "df1['nda_voteshare']=df1['NDA']/df1['Totalvotes']\n",
    "df1['upa_voteshare']=df1['UPA']/df1['Totalvotes']\n",
    "df1['mtp_voteshare']=df1['MTP']/df1['Totalvotes']\n",
    "df1['ind_voteshare']=df1['IND']/df1['Totalvotes']"
   ]
  },
  {
   "cell_type": "code",
   "execution_count": 148,
   "id": "2f05855b",
   "metadata": {},
   "outputs": [],
   "source": [
    "#map_df = pd.merge(ind_dist, dupdrop, how='laa', on='mapnames')"
   ]
  },
  {
   "cell_type": "code",
   "execution_count": 150,
   "id": "33443143",
   "metadata": {},
   "outputs": [],
   "source": [
    "socialjoindict = pd.read_csv('/Users/ridhitbhura/Desktop/Election Prediction Project/mlvalidationdict.csv')"
   ]
  },
  {
   "cell_type": "code",
   "execution_count": 152,
   "id": "b6d25301",
   "metadata": {},
   "outputs": [],
   "source": [
    "dict2 = dict(zip(socialjoindict['Census'], socialjoindict['Election']))\n",
    "#train[\"Alliance\"] = train[\"PARTY\"].map(alliancedict)"
   ]
  },
  {
   "cell_type": "code",
   "execution_count": 154,
   "id": "c858b5e3",
   "metadata": {},
   "outputs": [],
   "source": [
    "censusdata = pd.read_csv('/Users/ridhitbhura/Downloads/archive/india-districts-census-2011.csv')"
   ]
  },
  {
   "cell_type": "code",
   "execution_count": 156,
   "id": "d0490653",
   "metadata": {},
   "outputs": [],
   "source": [
    "censusdata[\"District_elecname\"] = censusdata[\"District name\"].map(dict2)"
   ]
  },
  {
   "cell_type": "code",
   "execution_count": 157,
   "id": "baa813a7",
   "metadata": {},
   "outputs": [
    {
     "data": {
      "text/plain": [
       "District code                    0\n",
       "State Name                       0\n",
       "District name                    0\n",
       "Population                       0\n",
       "Male                             0\n",
       "                                ..\n",
       "Power_Parity_Rs_425000_545000    0\n",
       "Power_Parity_Rs_330000_545000    0\n",
       "Power_Parity_Above_Rs_545000     0\n",
       "Total_Power_Parity               0\n",
       "District_elecname                4\n",
       "Length: 119, dtype: int64"
      ]
     },
     "execution_count": 157,
     "metadata": {},
     "output_type": "execute_result"
    }
   ],
   "source": [
    "censusdata.isna().sum()"
   ]
  },
  {
   "cell_type": "code",
   "execution_count": 158,
   "id": "619c035e",
   "metadata": {},
   "outputs": [],
   "source": [
    "censusdata = censusdata[censusdata.notna()]"
   ]
  },
  {
   "cell_type": "code",
   "execution_count": 160,
   "id": "3f4746f6",
   "metadata": {},
   "outputs": [
    {
     "data": {
      "text/plain": [
       "District code                    0\n",
       "State Name                       0\n",
       "District name                    0\n",
       "Population                       0\n",
       "Male                             0\n",
       "                                ..\n",
       "Power_Parity_Rs_425000_545000    0\n",
       "Power_Parity_Rs_330000_545000    0\n",
       "Power_Parity_Above_Rs_545000     0\n",
       "Total_Power_Parity               0\n",
       "District_elecname                4\n",
       "Length: 119, dtype: int64"
      ]
     },
     "execution_count": 160,
     "metadata": {},
     "output_type": "execute_result"
    }
   ],
   "source": [
    "censusdata.isna().sum()"
   ]
  },
  {
   "cell_type": "code",
   "execution_count": 161,
   "id": "3f4873f2",
   "metadata": {},
   "outputs": [],
   "source": [
    "censusdata = censusdata[censusdata['District_elecname'].notna()]"
   ]
  },
  {
   "cell_type": "code",
   "execution_count": 163,
   "id": "398dceaa",
   "metadata": {},
   "outputs": [],
   "source": [
    "from pandas import DataFrame\n",
    "from typing import Set, Any\n",
    "def remove_others(df: DataFrame, columns: Set[Any]):\n",
    "    \"\"\"\n",
    "    Deletes all columns of the specified dataframe except for the ones selected \n",
    "    \"\"\"\n",
    "    cols_total: Set[Any] = set(df.columns)\n",
    "    diff: Set[Any] = cols_total - columns\n",
    "    df.drop(diff, axis=1, inplace=True)"
   ]
  },
  {
   "cell_type": "code",
   "execution_count": 164,
   "id": "dd2d9934",
   "metadata": {},
   "outputs": [
    {
     "name": "stderr",
     "output_type": "stream",
     "text": [
      "/Users/ridhitbhura/miniforge3/envs/newenv/lib/python3.8/site-packages/pandas/core/frame.py:4901: SettingWithCopyWarning: \n",
      "A value is trying to be set on a copy of a slice from a DataFrame\n",
      "\n",
      "See the caveats in the documentation: https://pandas.pydata.org/pandas-docs/stable/user_guide/indexing.html#returning-a-view-versus-a-copy\n",
      "  return super().drop(\n"
     ]
    }
   ],
   "source": [
    "List_to_keep = {'District code','State Name','District name','Population','Male','Female','Literate','Male_Literate','Female_Literate','SC','Male_SC','Female_SC','ST','Male_ST','Female_ST','Workers','Male_Workers','Female_Workers','Main_Workers','Marginal_Workers','Non_Workers','Cultivator_Workers','Agricultural_Workers','Household_Workers','Other_Workers','Hindus','Muslims','Christians','Sikhs','Buddhists','Jains','Others_Religions', 'Rural_Households','Urban_Households','Households','Below_Primary_Education','Primary_Education','Middle_Education','Secondary_Education','Higher_Education','Graduate_Education','Other_Education','Literate_Education','Illiterate_Education','Total_Education','Age_Group_0_29','Age_Group_30_49','Age_Group_50', 'District_elecname'}\n",
    "remove_others(censusdata, List_to_keep)"
   ]
  },
  {
   "cell_type": "code",
   "execution_count": 165,
   "id": "03dec629",
   "metadata": {},
   "outputs": [],
   "source": [
    "#ax1 = censusdata.plot.scatter(x='Muslims',y='Literate',c='DarkBlue')"
   ]
  },
  {
   "cell_type": "code",
   "execution_count": 166,
   "id": "32993278",
   "metadata": {},
   "outputs": [
    {
     "data": {
      "text/html": [
       "<div>\n",
       "<style scoped>\n",
       "    .dataframe tbody tr th:only-of-type {\n",
       "        vertical-align: middle;\n",
       "    }\n",
       "\n",
       "    .dataframe tbody tr th {\n",
       "        vertical-align: top;\n",
       "    }\n",
       "\n",
       "    .dataframe thead th {\n",
       "        text-align: right;\n",
       "    }\n",
       "</style>\n",
       "<table border=\"1\" class=\"dataframe\">\n",
       "  <thead>\n",
       "    <tr style=\"text-align: right;\">\n",
       "      <th></th>\n",
       "      <th>District code</th>\n",
       "      <th>State Name</th>\n",
       "      <th>District name</th>\n",
       "      <th>Population</th>\n",
       "      <th>Male</th>\n",
       "      <th>Female</th>\n",
       "      <th>Literate</th>\n",
       "      <th>Male_Literate</th>\n",
       "      <th>Female_Literate</th>\n",
       "      <th>SC</th>\n",
       "      <th>...</th>\n",
       "      <th>Higher_Education</th>\n",
       "      <th>Graduate_Education</th>\n",
       "      <th>Other_Education</th>\n",
       "      <th>Literate_Education</th>\n",
       "      <th>Illiterate_Education</th>\n",
       "      <th>Total_Education</th>\n",
       "      <th>Age_Group_0_29</th>\n",
       "      <th>Age_Group_30_49</th>\n",
       "      <th>Age_Group_50</th>\n",
       "      <th>District_elecname</th>\n",
       "    </tr>\n",
       "  </thead>\n",
       "  <tbody>\n",
       "    <tr>\n",
       "      <th>0</th>\n",
       "      <td>1</td>\n",
       "      <td>JAMMU AND KASHMIR</td>\n",
       "      <td>Kupwara</td>\n",
       "      <td>870354</td>\n",
       "      <td>474190</td>\n",
       "      <td>396164</td>\n",
       "      <td>439654</td>\n",
       "      <td>282823</td>\n",
       "      <td>156831</td>\n",
       "      <td>1048</td>\n",
       "      <td>...</td>\n",
       "      <td>39709</td>\n",
       "      <td>21751</td>\n",
       "      <td>6402</td>\n",
       "      <td>405015</td>\n",
       "      <td>289765</td>\n",
       "      <td>694780</td>\n",
       "      <td>600759</td>\n",
       "      <td>178435</td>\n",
       "      <td>89679</td>\n",
       "      <td>Kupwara</td>\n",
       "    </tr>\n",
       "    <tr>\n",
       "      <th>1</th>\n",
       "      <td>2</td>\n",
       "      <td>JAMMU AND KASHMIR</td>\n",
       "      <td>Badgam</td>\n",
       "      <td>753745</td>\n",
       "      <td>398041</td>\n",
       "      <td>355704</td>\n",
       "      <td>335649</td>\n",
       "      <td>207741</td>\n",
       "      <td>127908</td>\n",
       "      <td>368</td>\n",
       "      <td>...</td>\n",
       "      <td>41367</td>\n",
       "      <td>27950</td>\n",
       "      <td>6857</td>\n",
       "      <td>374972</td>\n",
       "      <td>342646</td>\n",
       "      <td>717618</td>\n",
       "      <td>503223</td>\n",
       "      <td>160933</td>\n",
       "      <td>88978</td>\n",
       "      <td>Budgam</td>\n",
       "    </tr>\n",
       "    <tr>\n",
       "      <th>2</th>\n",
       "      <td>3</td>\n",
       "      <td>JAMMU AND KASHMIR</td>\n",
       "      <td>Leh(Ladakh)</td>\n",
       "      <td>133487</td>\n",
       "      <td>78971</td>\n",
       "      <td>54516</td>\n",
       "      <td>93770</td>\n",
       "      <td>62834</td>\n",
       "      <td>30936</td>\n",
       "      <td>488</td>\n",
       "      <td>...</td>\n",
       "      <td>8923</td>\n",
       "      <td>6197</td>\n",
       "      <td>575</td>\n",
       "      <td>75493</td>\n",
       "      <td>32637</td>\n",
       "      <td>108130</td>\n",
       "      <td>70703</td>\n",
       "      <td>41515</td>\n",
       "      <td>21019</td>\n",
       "      <td>Leh</td>\n",
       "    </tr>\n",
       "    <tr>\n",
       "      <th>3</th>\n",
       "      <td>4</td>\n",
       "      <td>JAMMU AND KASHMIR</td>\n",
       "      <td>Kargil</td>\n",
       "      <td>140802</td>\n",
       "      <td>77785</td>\n",
       "      <td>63017</td>\n",
       "      <td>86236</td>\n",
       "      <td>56301</td>\n",
       "      <td>29935</td>\n",
       "      <td>18</td>\n",
       "      <td>...</td>\n",
       "      <td>9826</td>\n",
       "      <td>3077</td>\n",
       "      <td>408</td>\n",
       "      <td>82938</td>\n",
       "      <td>39854</td>\n",
       "      <td>122792</td>\n",
       "      <td>87532</td>\n",
       "      <td>35561</td>\n",
       "      <td>17488</td>\n",
       "      <td>Kargil</td>\n",
       "    </tr>\n",
       "    <tr>\n",
       "      <th>4</th>\n",
       "      <td>5</td>\n",
       "      <td>JAMMU AND KASHMIR</td>\n",
       "      <td>Punch</td>\n",
       "      <td>476835</td>\n",
       "      <td>251899</td>\n",
       "      <td>224936</td>\n",
       "      <td>261724</td>\n",
       "      <td>163333</td>\n",
       "      <td>98391</td>\n",
       "      <td>556</td>\n",
       "      <td>...</td>\n",
       "      <td>29517</td>\n",
       "      <td>13962</td>\n",
       "      <td>1884</td>\n",
       "      <td>288430</td>\n",
       "      <td>164044</td>\n",
       "      <td>452474</td>\n",
       "      <td>304979</td>\n",
       "      <td>109818</td>\n",
       "      <td>61334</td>\n",
       "      <td>Poonch</td>\n",
       "    </tr>\n",
       "    <tr>\n",
       "      <th>...</th>\n",
       "      <td>...</td>\n",
       "      <td>...</td>\n",
       "      <td>...</td>\n",
       "      <td>...</td>\n",
       "      <td>...</td>\n",
       "      <td>...</td>\n",
       "      <td>...</td>\n",
       "      <td>...</td>\n",
       "      <td>...</td>\n",
       "      <td>...</td>\n",
       "      <td>...</td>\n",
       "      <td>...</td>\n",
       "      <td>...</td>\n",
       "      <td>...</td>\n",
       "      <td>...</td>\n",
       "      <td>...</td>\n",
       "      <td>...</td>\n",
       "      <td>...</td>\n",
       "      <td>...</td>\n",
       "      <td>...</td>\n",
       "      <td>...</td>\n",
       "    </tr>\n",
       "    <tr>\n",
       "      <th>634</th>\n",
       "      <td>635</td>\n",
       "      <td>PONDICHERRY</td>\n",
       "      <td>PONDICHERRY</td>\n",
       "      <td>950289</td>\n",
       "      <td>468258</td>\n",
       "      <td>482031</td>\n",
       "      <td>726649</td>\n",
       "      <td>380946</td>\n",
       "      <td>345703</td>\n",
       "      <td>152406</td>\n",
       "      <td>...</td>\n",
       "      <td>81519</td>\n",
       "      <td>134067</td>\n",
       "      <td>17367</td>\n",
       "      <td>725031</td>\n",
       "      <td>146861</td>\n",
       "      <td>871892</td>\n",
       "      <td>473705</td>\n",
       "      <td>299746</td>\n",
       "      <td>176204</td>\n",
       "      <td>Puducherry</td>\n",
       "    </tr>\n",
       "    <tr>\n",
       "      <th>635</th>\n",
       "      <td>636</td>\n",
       "      <td>PONDICHERRY</td>\n",
       "      <td>Mahe</td>\n",
       "      <td>41816</td>\n",
       "      <td>19143</td>\n",
       "      <td>22673</td>\n",
       "      <td>36470</td>\n",
       "      <td>16610</td>\n",
       "      <td>19860</td>\n",
       "      <td>144</td>\n",
       "      <td>...</td>\n",
       "      <td>5711</td>\n",
       "      <td>4475</td>\n",
       "      <td>978</td>\n",
       "      <td>36858</td>\n",
       "      <td>2993</td>\n",
       "      <td>39851</td>\n",
       "      <td>19760</td>\n",
       "      <td>12543</td>\n",
       "      <td>9428</td>\n",
       "      <td>Mahe</td>\n",
       "    </tr>\n",
       "    <tr>\n",
       "      <th>636</th>\n",
       "      <td>637</td>\n",
       "      <td>PONDICHERRY</td>\n",
       "      <td>Karaikal</td>\n",
       "      <td>200222</td>\n",
       "      <td>97809</td>\n",
       "      <td>102413</td>\n",
       "      <td>154916</td>\n",
       "      <td>79903</td>\n",
       "      <td>75013</td>\n",
       "      <td>35348</td>\n",
       "      <td>...</td>\n",
       "      <td>15930</td>\n",
       "      <td>18998</td>\n",
       "      <td>4877</td>\n",
       "      <td>154561</td>\n",
       "      <td>32717</td>\n",
       "      <td>187278</td>\n",
       "      <td>102333</td>\n",
       "      <td>60089</td>\n",
       "      <td>37434</td>\n",
       "      <td>Karaikal</td>\n",
       "    </tr>\n",
       "    <tr>\n",
       "      <th>637</th>\n",
       "      <td>638</td>\n",
       "      <td>ANDAMAN AND NICOBAR ISLANDS</td>\n",
       "      <td>Nicobars</td>\n",
       "      <td>36842</td>\n",
       "      <td>20727</td>\n",
       "      <td>16115</td>\n",
       "      <td>25332</td>\n",
       "      <td>15397</td>\n",
       "      <td>9935</td>\n",
       "      <td>0</td>\n",
       "      <td>...</td>\n",
       "      <td>3668</td>\n",
       "      <td>1300</td>\n",
       "      <td>364</td>\n",
       "      <td>27746</td>\n",
       "      <td>9781</td>\n",
       "      <td>37527</td>\n",
       "      <td>18786</td>\n",
       "      <td>12088</td>\n",
       "      <td>5922</td>\n",
       "      <td>Andaman &amp; Nicobar Islands</td>\n",
       "    </tr>\n",
       "    <tr>\n",
       "      <th>639</th>\n",
       "      <td>640</td>\n",
       "      <td>ANDAMAN AND NICOBAR ISLANDS</td>\n",
       "      <td>South Andaman</td>\n",
       "      <td>238142</td>\n",
       "      <td>127283</td>\n",
       "      <td>110859</td>\n",
       "      <td>190266</td>\n",
       "      <td>105794</td>\n",
       "      <td>84472</td>\n",
       "      <td>0</td>\n",
       "      <td>...</td>\n",
       "      <td>29910</td>\n",
       "      <td>22388</td>\n",
       "      <td>3077</td>\n",
       "      <td>189834</td>\n",
       "      <td>36289</td>\n",
       "      <td>226123</td>\n",
       "      <td>128402</td>\n",
       "      <td>76332</td>\n",
       "      <td>33128</td>\n",
       "      <td>Andaman &amp; Nicobar Islands</td>\n",
       "    </tr>\n",
       "  </tbody>\n",
       "</table>\n",
       "<p>636 rows × 49 columns</p>\n",
       "</div>"
      ],
      "text/plain": [
       "     District code                   State Name  District name  Population  \\\n",
       "0                1            JAMMU AND KASHMIR        Kupwara      870354   \n",
       "1                2            JAMMU AND KASHMIR         Badgam      753745   \n",
       "2                3            JAMMU AND KASHMIR    Leh(Ladakh)      133487   \n",
       "3                4            JAMMU AND KASHMIR         Kargil      140802   \n",
       "4                5            JAMMU AND KASHMIR          Punch      476835   \n",
       "..             ...                          ...            ...         ...   \n",
       "634            635                  PONDICHERRY    PONDICHERRY      950289   \n",
       "635            636                  PONDICHERRY           Mahe       41816   \n",
       "636            637                  PONDICHERRY       Karaikal      200222   \n",
       "637            638  ANDAMAN AND NICOBAR ISLANDS       Nicobars       36842   \n",
       "639            640  ANDAMAN AND NICOBAR ISLANDS  South Andaman      238142   \n",
       "\n",
       "       Male  Female  Literate  Male_Literate  Female_Literate      SC  ...  \\\n",
       "0    474190  396164    439654         282823           156831    1048  ...   \n",
       "1    398041  355704    335649         207741           127908     368  ...   \n",
       "2     78971   54516     93770          62834            30936     488  ...   \n",
       "3     77785   63017     86236          56301            29935      18  ...   \n",
       "4    251899  224936    261724         163333            98391     556  ...   \n",
       "..      ...     ...       ...            ...              ...     ...  ...   \n",
       "634  468258  482031    726649         380946           345703  152406  ...   \n",
       "635   19143   22673     36470          16610            19860     144  ...   \n",
       "636   97809  102413    154916          79903            75013   35348  ...   \n",
       "637   20727   16115     25332          15397             9935       0  ...   \n",
       "639  127283  110859    190266         105794            84472       0  ...   \n",
       "\n",
       "     Higher_Education  Graduate_Education  Other_Education  \\\n",
       "0               39709               21751             6402   \n",
       "1               41367               27950             6857   \n",
       "2                8923                6197              575   \n",
       "3                9826                3077              408   \n",
       "4               29517               13962             1884   \n",
       "..                ...                 ...              ...   \n",
       "634             81519              134067            17367   \n",
       "635              5711                4475              978   \n",
       "636             15930               18998             4877   \n",
       "637              3668                1300              364   \n",
       "639             29910               22388             3077   \n",
       "\n",
       "     Literate_Education  Illiterate_Education  Total_Education  \\\n",
       "0                405015                289765           694780   \n",
       "1                374972                342646           717618   \n",
       "2                 75493                 32637           108130   \n",
       "3                 82938                 39854           122792   \n",
       "4                288430                164044           452474   \n",
       "..                  ...                   ...              ...   \n",
       "634              725031                146861           871892   \n",
       "635               36858                  2993            39851   \n",
       "636              154561                 32717           187278   \n",
       "637               27746                  9781            37527   \n",
       "639              189834                 36289           226123   \n",
       "\n",
       "     Age_Group_0_29  Age_Group_30_49  Age_Group_50          District_elecname  \n",
       "0            600759           178435         89679                    Kupwara  \n",
       "1            503223           160933         88978                     Budgam  \n",
       "2             70703            41515         21019                        Leh  \n",
       "3             87532            35561         17488                     Kargil  \n",
       "4            304979           109818         61334                     Poonch  \n",
       "..              ...              ...           ...                        ...  \n",
       "634          473705           299746        176204                 Puducherry  \n",
       "635           19760            12543          9428                       Mahe  \n",
       "636          102333            60089         37434                   Karaikal  \n",
       "637           18786            12088          5922  Andaman & Nicobar Islands  \n",
       "639          128402            76332         33128  Andaman & Nicobar Islands  \n",
       "\n",
       "[636 rows x 49 columns]"
      ]
     },
     "execution_count": 166,
     "metadata": {},
     "output_type": "execute_result"
    }
   ],
   "source": [
    "pctcensusdf=censusdata.copy()\n",
    "pctcensusdf"
   ]
  },
  {
   "cell_type": "code",
   "execution_count": 167,
   "id": "dcc2fddd",
   "metadata": {},
   "outputs": [],
   "source": [
    "pctcensusdf['malepct'] = pctcensusdf['Male']/pctcensusdf['Population']\n",
    "pctcensusdf['femalepct'] = pctcensusdf['Female']/pctcensusdf['Population']\n",
    "pctcensusdf['literacyrate'] = pctcensusdf['Literate']/pctcensusdf['Population']\n",
    "pctcensusdf['scpct'] = pctcensusdf['SC']/pctcensusdf['Population']\n",
    "pctcensusdf['stpct'] = pctcensusdf['ST']/pctcensusdf['Population']\n",
    "pctcensusdf['hindupct'] = pctcensusdf['Hindus']/pctcensusdf['Population']\n",
    "pctcensusdf['muslimpct'] = pctcensusdf['Muslims']/pctcensusdf['Population']\n",
    "pctcensusdf['christianpct'] = pctcensusdf['Christians']/pctcensusdf['Population']\n",
    "pctcensusdf['buddhistpct'] = pctcensusdf['Buddhists']/pctcensusdf['Population']\n",
    "pctcensusdf['jainpct'] = pctcensusdf['Jains']/pctcensusdf['Population']\n",
    "pctcensusdf['sikhpct'] = pctcensusdf['Sikhs']/pctcensusdf['Population']\n",
    "pctcensusdf['urbanpct'] = pctcensusdf['Urban_Households']/pctcensusdf['Households']\n",
    "pctcensusdf['ruralpct'] = pctcensusdf['Rural_Households']/pctcensusdf['Households']\n",
    "pctcensusdf['primarypct'] = pctcensusdf['Primary_Education']/pctcensusdf['Total_Education']\n",
    "pctcensusdf['middlepct'] = pctcensusdf['Middle_Education']/pctcensusdf['Total_Education']\n",
    "pctcensusdf['secondarypct'] = pctcensusdf['Secondary_Education']/pctcensusdf['Total_Education']\n",
    "pctcensusdf['higherpct'] = pctcensusdf['Higher_Education']/pctcensusdf['Total_Education']\n",
    "pctcensusdf['gradpct'] = pctcensusdf['Graduate_Education']/pctcensusdf['Total_Education']"
   ]
  },
  {
   "cell_type": "code",
   "execution_count": 169,
   "id": "a6e6f16f",
   "metadata": {},
   "outputs": [],
   "source": [
    "List_to_keep = {'District code','State Name','District name','District_elecname','malepct','femalepct','literacyrate','scpct',\n",
    "               'stpct','hindupct','muslimpct','christianpct','buddhistpct','jainpct','sikhpct','urbanpct',        \n",
    "                'ruralpct','primarypct','middlepct','secondarypct','higherpct','gradpct'\n",
    "               }\n",
    "remove_others(pctcensusdf, List_to_keep)"
   ]
  },
  {
   "cell_type": "code",
   "execution_count": 171,
   "id": "f8d878fc",
   "metadata": {},
   "outputs": [],
   "source": [
    "#pctcensusdf.to_csv('/Users/ridhitbhura/Downloads/DemographicData.csv')"
   ]
  },
  {
   "cell_type": "code",
   "execution_count": 174,
   "id": "be4ed584",
   "metadata": {},
   "outputs": [],
   "source": [
    "ndavoteshare = dict(zip(df1['District'], df1['NDA']))\n",
    "upavoteshare = dict(zip(df1['District'], df1['UPA']))\n",
    "mtpvoteshare = dict(zip(df1['District'], df1['MTP']))\n",
    "indvoteshare = dict(zip(df1['District'], df1['IND']))"
   ]
  },
  {
   "cell_type": "code",
   "execution_count": 175,
   "id": "c35528fb",
   "metadata": {},
   "outputs": [],
   "source": [
    "pctcensusdf['nda_voteshare']=pctcensusdf['District_elecname'].map(ndavoteshare)\n",
    "pctcensusdf['upa_voteshare']=pctcensusdf['District_elecname'].map(upavoteshare)\n",
    "pctcensusdf['mtp_voteshare']=pctcensusdf['District_elecname'].map(mtpvoteshare)\n",
    "pctcensusdf['ind_voteshare']=pctcensusdf['District_elecname'].map(indvoteshare)"
   ]
  },
  {
   "cell_type": "code",
   "execution_count": 181,
   "id": "fe859d2d",
   "metadata": {},
   "outputs": [],
   "source": [
    "pctcensusdf.to_csv('/Users/ridhitbhura/Desktop/ElectionForecastProject/censusjoineddata.csv')"
   ]
  },
  {
   "cell_type": "code",
   "execution_count": 177,
   "id": "32a300e1",
   "metadata": {},
   "outputs": [],
   "source": [
    "#pctcensusdf['maxvote']=pctcensusdf[['nda_voteshare', 'upa_voteshare','mtp_voteshare','ind_voteshare']].max(axis=1)"
   ]
  },
  {
   "cell_type": "code",
   "execution_count": 179,
   "id": "38c3ee82",
   "metadata": {},
   "outputs": [
    {
     "ename": "IndentationError",
     "evalue": "unindent does not match any outer indentation level (<tokenize>, line 5)",
     "output_type": "error",
     "traceback": [
      "\u001b[0;36m  File \u001b[0;32m\"<tokenize>\"\u001b[0;36m, line \u001b[0;32m5\u001b[0m\n\u001b[0;31m    ]\u001b[0m\n\u001b[0m    ^\u001b[0m\n\u001b[0;31mIndentationError\u001b[0m\u001b[0;31m:\u001b[0m unindent does not match any outer indentation level\n"
     ]
    }
   ],
   "source": [
    "#conditions = [pctcensusdf['nda_voteshare'] == pctcensusdf['maxvote'], \n",
    "              pctcensusdf['upa_voteshare'] == pctcensusdf['maxvote'],\n",
    "              pctcensusdf['mtp_voteshare'] == pctcensusdf['maxvote'],\n",
    "              pctcensusdf['ind_voteshare'] == pctcensusdf['maxvote']\n",
    "             ]\n",
    "#choices = ['NDA', 'UPA','MTP', 'IND']\n",
    "#pctcensusdf['topparty'] = np.select(conditions, choices)\n"
   ]
  },
  {
   "cell_type": "code",
   "execution_count": 182,
   "id": "0c32515e",
   "metadata": {},
   "outputs": [],
   "source": [
    "del pctcensusdf['ind_voteshare']"
   ]
  },
  {
   "cell_type": "code",
   "execution_count": 183,
   "id": "638ac475",
   "metadata": {},
   "outputs": [],
   "source": [
    "pctcensusdf['maxvote']=pctcensusdf[['nda_voteshare', 'upa_voteshare','mtp_voteshare']].max(axis=1)"
   ]
  },
  {
   "cell_type": "code",
   "execution_count": 184,
   "id": "2fdece22",
   "metadata": {},
   "outputs": [],
   "source": [
    "conditions = [pctcensusdf['nda_voteshare'] == pctcensusdf['maxvote'], \n",
    "              pctcensusdf['upa_voteshare'] == pctcensusdf['maxvote'],\n",
    "              pctcensusdf['mtp_voteshare'] == pctcensusdf['maxvote'],\n",
    "             ]\n",
    "choices = [0,1,2]\n",
    "pctcensusdf['topparty'] = np.select(conditions, choices)"
   ]
  },
  {
   "cell_type": "code",
   "execution_count": 241,
   "id": "d1944648",
   "metadata": {},
   "outputs": [],
   "source": [
    "#pctcensusdf.to_csv('/Users/ridhitbhura/Downloads/DemographicDatamergedElection.csv')"
   ]
  },
  {
   "cell_type": "code",
   "execution_count": 186,
   "id": "703497df",
   "metadata": {},
   "outputs": [],
   "source": [
    "del pctcensusdf['maxvote']"
   ]
  },
  {
   "cell_type": "code",
   "execution_count": 187,
   "id": "2c6b5d1d",
   "metadata": {},
   "outputs": [
    {
     "data": {
      "text/plain": [
       "District code        0\n",
       "State Name           0\n",
       "District name        0\n",
       "District_elecname    0\n",
       "malepct              0\n",
       "femalepct            0\n",
       "literacyrate         0\n",
       "scpct                0\n",
       "stpct                0\n",
       "hindupct             0\n",
       "muslimpct            0\n",
       "christianpct         0\n",
       "buddhistpct          0\n",
       "jainpct              0\n",
       "sikhpct              0\n",
       "urbanpct             0\n",
       "ruralpct             0\n",
       "primarypct           0\n",
       "middlepct            0\n",
       "secondarypct         0\n",
       "higherpct            0\n",
       "gradpct              0\n",
       "nda_voteshare        0\n",
       "upa_voteshare        0\n",
       "mtp_voteshare        0\n",
       "topparty             0\n",
       "dtype: int64"
      ]
     },
     "execution_count": 187,
     "metadata": {},
     "output_type": "execute_result"
    }
   ],
   "source": [
    "pctcensusdf.isna().sum()"
   ]
  },
  {
   "cell_type": "code",
   "execution_count": 188,
   "id": "7f3a47d0",
   "metadata": {},
   "outputs": [],
   "source": [
    "pctcensusdf.to_csv('/Users/ridhitbhura/Desktop/ElectionForecastProject/finalfinaldata.csv')"
   ]
  },
  {
   "cell_type": "code",
   "execution_count": 91,
   "id": "7b9b9f8e",
   "metadata": {},
   "outputs": [],
   "source": [
    "finaldata = pctcensusdf.copy()"
   ]
  },
  {
   "cell_type": "code",
   "execution_count": 92,
   "id": "b2b1df2a",
   "metadata": {},
   "outputs": [],
   "source": [
    "del finaldata['upa_voteshare']\n",
    "del finaldata['mtp_voteshare']\n",
    "del finaldata['ind_voteshare']\n",
    "del finaldata['maxvote']"
   ]
  },
  {
   "cell_type": "code",
   "execution_count": 94,
   "id": "e3d30ae7",
   "metadata": {},
   "outputs": [],
   "source": [
    "finaldata.to_csv('/Users/ridhitbhura/Downloads/totalvotescensusdatafinal.csv')"
   ]
  }
 ],
 "metadata": {
  "kernelspec": {
   "display_name": "Python 3 (ipykernel)",
   "language": "python",
   "name": "python3"
  },
  "language_info": {
   "codemirror_mode": {
    "name": "ipython",
    "version": 3
   },
   "file_extension": ".py",
   "mimetype": "text/x-python",
   "name": "python",
   "nbconvert_exporter": "python",
   "pygments_lexer": "ipython3",
   "version": "3.8.10"
  }
 },
 "nbformat": 4,
 "nbformat_minor": 5
}
